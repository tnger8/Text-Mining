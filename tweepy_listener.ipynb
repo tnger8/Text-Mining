{
 "cells": [
  {
   "cell_type": "code",
   "execution_count": 1,
   "metadata": {
    "ExecuteTime": {
     "end_time": "2020-02-15T10:09:04.711447Z",
     "start_time": "2020-02-15T10:09:04.663546Z"
    }
   },
   "outputs": [
    {
     "data": {
      "text/html": [
       "<style>.container { width:90% !important; }</style>"
      ],
      "text/plain": [
       "<IPython.core.display.HTML object>"
      ]
     },
     "metadata": {},
     "output_type": "display_data"
    }
   ],
   "source": [
    "import tweepy\n",
    "import csv\n",
    "import json\n",
    "import os\n",
    "\n",
    "from IPython.core.display import display, HTML\n",
    "display(HTML(\"<style>.container { width:90% !important; }</style>\"))"
   ]
  },
  {
   "cell_type": "code",
   "execution_count": 2,
   "metadata": {
    "ExecuteTime": {
     "end_time": "2020-02-15T10:09:06.211208Z",
     "start_time": "2020-02-15T10:09:06.207239Z"
    }
   },
   "outputs": [],
   "source": [
    "#Add your credentials here\n",
    "twitter_keys = {\n",
    "        'consumer_key':        'Z8slabsivDl8YMskkKXHn6Rpk',\n",
    "        'consumer_secret':     'Liwia9OD2WS5QximVR3AzN1TM0vdmLejwBLr01GlUsENvgYVXY',\n",
    "        'access_token_key':    '80337313-DrhQUb770oFY0vlqL8w8PjMoF4cpOUthwjq310y7Q',\n",
    "        'access_token_secret': 'AKHif2AGfvvhmuZUHq5l7cz26b1yZoMycrhxlcsMcEaZ9'\n",
    "    }"
   ]
  },
  {
   "cell_type": "markdown",
   "metadata": {
    "heading_collapsed": true
   },
   "source": [
    "# Samples using tweepy"
   ]
  },
  {
   "cell_type": "code",
   "execution_count": 3,
   "metadata": {
    "ExecuteTime": {
     "end_time": "2020-02-15T08:55:50.855453Z",
     "start_time": "2020-02-15T08:55:49.049334Z"
    },
    "hidden": true
   },
   "outputs": [
    {
     "name": "stdout",
     "output_type": "stream",
     "text": [
      "RT @lmeyerov: Spent the weekend writing unit tests for dataframe non-determinism / weird indexes / coercions after upgrading pandas+rapids…\n",
      "BREAKING: Car rams into a crowd during a parade in #Volkmarsen, Germany, more than 10 people injured - reports… https://t.co/uL4sS23SsX\n",
      "Metamorfo: the banking Trojan with a long list of tricks: Metamorfo is a banking Trojan, first discovered… https://t.co/56DbtGyLGe #infosec\n",
      "How to Scope Your Organization for NERC CIP: Knowing how to scope your organization for NERC CIP security… https://t.co/jqHyuk6XzM #infosec\n",
      "Latest Security News from RSAC 2020: Check out Dark Reading’s updated, exclusive coverage of the news and… https://t.co/nxBbnbmnnB #infosec\n",
      "EU plans to link member states’ facial recognition databases: EU plans to link member states’ facial… https://t.co/sEb2JssUlq #infosec\n",
      "WhatsApp security alert: Strangers could get an invitation to your private group: WhatsApp security alert… https://t.co/DN5rpCQ2Xb #infosec\n",
      "Raccoon: The Story of a Typical Infostealer: An infostealer is a type of malware that is focused on… https://t.co/dNkyMa3LKS #infosec\n",
      "Attackers Use SMS Phishing to Steal Credentials and Install Emotet Malware: Researchers have discovered a… https://t.co/FNNQNFcdEx #infosec\n",
      "These were the most common forms of cyberattack last year: These were the most common forms of… https://t.co/KpWCcRpex8 #infosec\n",
      "Hack the Box (HTB) machines walkthrough series — Aragog: Today, we will be continuing with our… https://t.co/pO0E8RvCbx #infosec\n",
      "This Technique Uses AI to Fool Other AIs: This Technique Uses AI to Fool Other AIs l33tdawg Mon, 02/24… https://t.co/zAeDXKBz9T #infosec\n",
      "Julian Assange put lives at risk, lawyer for United States says https://t.co/uXoTdk1xcn https://t.co/0k2MIVJxYL\n",
      "Sri Lanka deploys troops to control worsening traffic https://t.co/3fZ2MdDsks https://t.co/vaGJZpAiw0\n",
      "Coronavirus hits Italian sport hard https://t.co/r43y18s4F6 https://t.co/0SzSxi4HPv\n",
      "\"We will eventually flee to the border, or we will face death\"\n",
      "\n",
      "Inside Syria's final rebel stronghold… https://t.co/2uEk6z8oK1\n",
      "The Dow industrials fell more than 900 points as the spread of coronavirus outside China deepened concerns about th… https://t.co/41c2cFUjr6\n",
      "Impact of Artificial Intelligence on Intellectual Property Policy: Call for Comments https://t.co/WZinZmLYxP  #ArtificialIntelligence\n",
      "Huawei's second foldable smartphone Mate Xs to launch in Singapore next month https://t.co/KoRB6vkMZV\n",
      "Cricket: Bangladesh's Mushfiqur hits double ton to corner Zimbabwe https://t.co/RktObE2CKV https://t.co/K9AB0TJGoz\n"
     ]
    }
   ],
   "source": [
    "#Setup access to API\n",
    "auth = tweepy.OAuthHandler(twitter_keys['consumer_key'], twitter_keys['consumer_secret'])\n",
    "auth.set_access_token(twitter_keys['access_token_key'], twitter_keys['access_token_secret'])\n",
    "\n",
    "api = tweepy.API(auth)\n",
    "\n",
    "#Make call on home timeline, print each tweets text\n",
    "public_tweets = api.home_timeline()\n",
    "for tweet in public_tweets:\n",
    "    print(tweet.text)"
   ]
  },
  {
   "cell_type": "code",
   "execution_count": 4,
   "metadata": {
    "ExecuteTime": {
     "end_time": "2020-02-15T08:56:17.745126Z",
     "start_time": "2020-02-15T08:56:17.734829Z"
    },
    "hidden": true,
    "scrolled": true
   },
   "outputs": [
    {
     "name": "stdout",
     "output_type": "stream",
     "text": [
      "{\n",
      "    \"contributors\": null,\n",
      "    \"coordinates\": null,\n",
      "    \"created_at\": \"Mon Feb 24 14:40:37 +0000 2020\",\n",
      "    \"entities\": {\n",
      "        \"hashtags\": [],\n",
      "        \"symbols\": [],\n",
      "        \"urls\": [],\n",
      "        \"user_mentions\": [\n",
      "            {\n",
      "                \"id\": 15315247,\n",
      "                \"id_str\": \"15315247\",\n",
      "                \"indices\": [\n",
      "                    3,\n",
      "                    12\n",
      "                ],\n",
      "                \"name\": \"lmeyerov\",\n",
      "                \"screen_name\": \"lmeyerov\"\n",
      "            }\n",
      "        ]\n",
      "    },\n",
      "    \"favorite_count\": 0,\n",
      "    \"favorited\": false,\n",
      "    \"geo\": null,\n",
      "    \"id\": 1231952071579951104,\n",
      "    \"id_str\": \"1231952071579951104\",\n",
      "    \"in_reply_to_screen_name\": null,\n",
      "    \"in_reply_to_status_id\": null,\n",
      "    \"in_reply_to_status_id_str\": null,\n",
      "    \"in_reply_to_user_id\": null,\n",
      "    \"in_reply_to_user_id_str\": null,\n",
      "    \"is_quote_status\": false,\n",
      "    \"lang\": \"en\",\n",
      "    \"place\": null,\n",
      "    \"retweet_count\": 0,\n",
      "    \"retweeted\": false,\n",
      "    \"retweeted_status\": {\n",
      "        \"contributors\": null,\n",
      "        \"coordinates\": null,\n",
      "        \"created_at\": \"Mon Feb 24 10:26:55 +0000 2020\",\n",
      "        \"entities\": {\n",
      "            \"hashtags\": [],\n",
      "            \"symbols\": [],\n",
      "            \"urls\": [\n",
      "                {\n",
      "                    \"display_url\": \"twitter.com/i/web/status/1\\u2026\",\n",
      "                    \"expanded_url\": \"https://twitter.com/i/web/status/1231888228447186946\",\n",
      "                    \"indices\": [\n",
      "                        117,\n",
      "                        140\n",
      "                    ],\n",
      "                    \"url\": \"https://t.co/ia3MO8i5UY\"\n",
      "                }\n",
      "            ],\n",
      "            \"user_mentions\": []\n",
      "        },\n",
      "        \"favorite_count\": 2,\n",
      "        \"favorited\": false,\n",
      "        \"geo\": null,\n",
      "        \"id\": 1231888228447186946,\n",
      "        \"id_str\": \"1231888228447186946\",\n",
      "        \"in_reply_to_screen_name\": null,\n",
      "        \"in_reply_to_status_id\": null,\n",
      "        \"in_reply_to_status_id_str\": null,\n",
      "        \"in_reply_to_user_id\": null,\n",
      "        \"in_reply_to_user_id_str\": null,\n",
      "        \"is_quote_status\": false,\n",
      "        \"lang\": \"en\",\n",
      "        \"place\": null,\n",
      "        \"retweet_count\": 0,\n",
      "        \"retweeted\": false,\n",
      "        \"source\": \"<a href=\\\"https://mobile.twitter.com\\\" rel=\\\"nofollow\\\">Twitter Web App</a>\",\n",
      "        \"text\": \"Spent the weekend writing unit tests for dataframe non-determinism / weird indexes / coercions after upgrading pand\\u2026 https://t.co/ia3MO8i5UY\",\n",
      "        \"truncated\": true,\n",
      "        \"user\": {\n",
      "            \"contributors_enabled\": false,\n",
      "            \"created_at\": \"Fri Jul 04 05:15:12 +0000 2008\",\n",
      "            \"default_profile\": false,\n",
      "            \"default_profile_image\": false,\n",
      "            \"description\": \"CEO @Graphistry 100X Investigations: GPU visual graph analytics + automate\\n\\nDid: GPU dataframes Socio-PLT Par browser Flapjax\\n\\n@GraphThePlanet @DataRideAlongs\",\n",
      "            \"entities\": {\n",
      "                \"description\": {\n",
      "                    \"urls\": []\n",
      "                },\n",
      "                \"url\": {\n",
      "                    \"urls\": [\n",
      "                        {\n",
      "                            \"display_url\": \"lmeyerov.github.io\",\n",
      "                            \"expanded_url\": \"http://lmeyerov.github.io\",\n",
      "                            \"indices\": [\n",
      "                                0,\n",
      "                                22\n",
      "                            ],\n",
      "                            \"url\": \"http://t.co/KqeMXe9W0V\"\n",
      "                        }\n",
      "                    ]\n",
      "                }\n",
      "            },\n",
      "            \"favourites_count\": 3190,\n",
      "            \"follow_request_sent\": false,\n",
      "            \"followers_count\": 2097,\n",
      "            \"following\": false,\n",
      "            \"friends_count\": 397,\n",
      "            \"geo_enabled\": false,\n",
      "            \"has_extended_profile\": false,\n",
      "            \"id\": 15315247,\n",
      "            \"id_str\": \"15315247\",\n",
      "            \"is_translation_enabled\": false,\n",
      "            \"is_translator\": false,\n",
      "            \"lang\": null,\n",
      "            \"listed_count\": 119,\n",
      "            \"location\": \"San Francisco\",\n",
      "            \"name\": \"lmeyerov\",\n",
      "            \"notifications\": false,\n",
      "            \"profile_background_color\": \"030303\",\n",
      "            \"profile_background_image_url\": \"http://abs.twimg.com/images/themes/theme1/bg.png\",\n",
      "            \"profile_background_image_url_https\": \"https://abs.twimg.com/images/themes/theme1/bg.png\",\n",
      "            \"profile_background_tile\": false,\n",
      "            \"profile_banner_url\": \"https://pbs.twimg.com/profile_banners/15315247/1440277776\",\n",
      "            \"profile_image_url\": \"http://pbs.twimg.com/profile_images/378800000266028204/43f72b09c2462e0ae4c4d6d14372b315_normal.jpeg\",\n",
      "            \"profile_image_url_https\": \"https://pbs.twimg.com/profile_images/378800000266028204/43f72b09c2462e0ae4c4d6d14372b315_normal.jpeg\",\n",
      "            \"profile_link_color\": \"B7651C\",\n",
      "            \"profile_sidebar_border_color\": \"FFFFFF\",\n",
      "            \"profile_sidebar_fill_color\": \"BE2A28\",\n",
      "            \"profile_text_color\": \"C5363A\",\n",
      "            \"profile_use_background_image\": false,\n",
      "            \"protected\": false,\n",
      "            \"screen_name\": \"lmeyerov\",\n",
      "            \"statuses_count\": 6881,\n",
      "            \"time_zone\": null,\n",
      "            \"translator_type\": \"none\",\n",
      "            \"url\": \"http://t.co/KqeMXe9W0V\",\n",
      "            \"utc_offset\": null,\n",
      "            \"verified\": false\n",
      "        }\n",
      "    },\n",
      "    \"source\": \"<a href=\\\"https://mobile.twitter.com\\\" rel=\\\"nofollow\\\">Twitter Web App</a>\",\n",
      "    \"text\": \"RT @lmeyerov: Spent the weekend writing unit tests for dataframe non-determinism / weird indexes / coercions after upgrading pandas+rapids\\u2026\",\n",
      "    \"truncated\": false,\n",
      "    \"user\": {\n",
      "        \"contributors_enabled\": false,\n",
      "        \"created_at\": \"Fri Aug 06 04:58:18 +0000 2010\",\n",
      "        \"default_profile\": false,\n",
      "        \"default_profile_image\": false,\n",
      "        \"description\": \"Deep learning R&D and education. Founder: https://t.co/ZvDGNlehRt; Faculty: https://t.co/qvIGD5ndFb; Chair https://t.co/lOJ9QSIeVr; // Previously - CEO: Enlitic; President: Kaggle; CEO Fastmail\",\n",
      "        \"entities\": {\n",
      "            \"description\": {\n",
      "                \"urls\": [\n",
      "                    {\n",
      "                        \"display_url\": \"fast.ai\",\n",
      "                        \"expanded_url\": \"http://fast.ai\",\n",
      "                        \"indices\": [\n",
      "                            42,\n",
      "                            65\n",
      "                        ],\n",
      "                        \"url\": \"https://t.co/ZvDGNlehRt\"\n",
      "                    },\n",
      "                    {\n",
      "                        \"display_url\": \"usfca.edu\",\n",
      "                        \"expanded_url\": \"http://usfca.edu\",\n",
      "                        \"indices\": [\n",
      "                            76,\n",
      "                            99\n",
      "                        ],\n",
      "                        \"url\": \"https://t.co/qvIGD5ndFb\"\n",
      "                    },\n",
      "                    {\n",
      "                        \"display_url\": \"wamri.ai\",\n",
      "                        \"expanded_url\": \"http://wamri.ai\",\n",
      "                        \"indices\": [\n",
      "                            107,\n",
      "                            130\n",
      "                        ],\n",
      "                        \"url\": \"https://t.co/lOJ9QSIeVr\"\n",
      "                    }\n",
      "                ]\n",
      "            }\n",
      "        },\n",
      "        \"favourites_count\": 5137,\n",
      "        \"follow_request_sent\": false,\n",
      "        \"followers_count\": 87064,\n",
      "        \"following\": true,\n",
      "        \"friends_count\": 1574,\n",
      "        \"geo_enabled\": false,\n",
      "        \"has_extended_profile\": false,\n",
      "        \"id\": 175282603,\n",
      "        \"id_str\": \"175282603\",\n",
      "        \"is_translation_enabled\": false,\n",
      "        \"is_translator\": false,\n",
      "        \"lang\": null,\n",
      "        \"listed_count\": 1862,\n",
      "        \"location\": \"San Francisco\",\n",
      "        \"name\": \"Jeremy Howard\",\n",
      "        \"notifications\": false,\n",
      "        \"profile_background_color\": \"ACDED6\",\n",
      "        \"profile_background_image_url\": \"http://abs.twimg.com/images/themes/theme18/bg.gif\",\n",
      "        \"profile_background_image_url_https\": \"https://abs.twimg.com/images/themes/theme18/bg.gif\",\n",
      "        \"profile_background_tile\": false,\n",
      "        \"profile_banner_url\": \"https://pbs.twimg.com/profile_banners/175282603/1402097988\",\n",
      "        \"profile_image_url\": \"http://pbs.twimg.com/profile_images/1100427147/eye_jeremy75_normal.jpg\",\n",
      "        \"profile_image_url_https\": \"https://pbs.twimg.com/profile_images/1100427147/eye_jeremy75_normal.jpg\",\n",
      "        \"profile_link_color\": \"038543\",\n",
      "        \"profile_sidebar_border_color\": \"EEEEEE\",\n",
      "        \"profile_sidebar_fill_color\": \"F6F6F6\",\n",
      "        \"profile_text_color\": \"333333\",\n",
      "        \"profile_use_background_image\": true,\n",
      "        \"protected\": false,\n",
      "        \"screen_name\": \"jeremyphoward\",\n",
      "        \"statuses_count\": 27890,\n",
      "        \"time_zone\": null,\n",
      "        \"translator_type\": \"none\",\n",
      "        \"url\": null,\n",
      "        \"utc_offset\": null,\n",
      "        \"verified\": false\n",
      "    }\n",
      "}\n"
     ]
    }
   ],
   "source": [
    "import json\n",
    "# https://developer.twitter.com/en/docs/tweets/data-dictionary/overview/tweet-object\n",
    "status = public_tweets[0]\n",
    "json_str = json.dumps(status._json, indent=4, sort_keys=True)\n",
    "print(json_str)"
   ]
  },
  {
   "cell_type": "code",
   "execution_count": 5,
   "metadata": {
    "ExecuteTime": {
     "end_time": "2020-02-15T08:59:22.225952Z",
     "start_time": "2020-02-15T08:59:22.217783Z"
    },
    "hidden": true
   },
   "outputs": [
    {
     "name": "stdout",
     "output_type": "stream",
     "text": [
      "Is retweeted post\n"
     ]
    },
    {
     "data": {
      "text/plain": [
       "[1231952071579951104,\n",
       " 'Mon Feb 24 14:40:37 +0000 2020',\n",
       " 0,\n",
       " 0,\n",
       " 'RT @lmeyerov: Spent the weekend writing unit tests for dataframe non-determinism / weird indexes / coercions after upgrading pandas+rapids…',\n",
       " None,\n",
       " '<a href=\"https://mobile.twitter.com\" rel=\"nofollow\">Twitter Web App</a>',\n",
       " None,\n",
       " 'jeremyphoward',\n",
       " 'Fri Aug 06 04:58:18 +0000 2010',\n",
       " 87064,\n",
       " False]"
      ]
     },
     "execution_count": 5,
     "metadata": {},
     "output_type": "execute_result"
    }
   ],
   "source": [
    "item = []\n",
    "json_obj = json.loads(json_str)\n",
    "\n",
    "if json_obj.get('retweeted_status'):\n",
    "    print('Is retweeted post')\n",
    "else:\n",
    "    print('Is orignial post')\n",
    "\n",
    "# Tweet information\n",
    "item.append(json_obj['id']) # The integer representation of the unique identifier for this Tweet\n",
    "item.append(json_obj['created_at']) # UTC time when this Tweet was created.\n",
    "item.append(json_obj['favorite_count']) # Nullable. Indicates approximately how many times this Tweet has been liked by Twitter users\n",
    "item.append(json_obj['retweet_count']) # Number of times this Tweet has been retweeted.\n",
    "item.append(json_obj['text']) # Actual text posted\n",
    "if json_obj.get('extended_tweet'):\n",
    "    item.append(json_obj['extended_tweet']['full_text']) # full text when over 280 chars limit    \n",
    "else:\n",
    "    item.append(None)\n",
    "item.append(json_obj['source']) # Utility used to post the Tweet\n",
    "item.append(json_obj['coordinates']) # Nullable. Represents the geographic location of this Tweet as reported by the user or client application.\n",
    "\n",
    "# User information\n",
    "item.append(json_obj['user']['screen_name']) # user who post this\n",
    "item.append(json_obj['user']['created_at']) # user account creation date\n",
    "item.append(json_obj['user']['followers_count']) # The number of followers this account currently has.\n",
    "item.append(json_obj['user']['verified']) # When true, indicates that the user has a verified account.\n",
    "\n",
    "item"
   ]
  },
  {
   "cell_type": "code",
   "execution_count": null,
   "metadata": {
    "hidden": true
   },
   "outputs": [],
   "source": []
  },
  {
   "cell_type": "code",
   "execution_count": null,
   "metadata": {
    "hidden": true
   },
   "outputs": [],
   "source": []
  },
  {
   "cell_type": "markdown",
   "metadata": {},
   "source": [
    "# Streaming tweets"
   ]
  },
  {
   "cell_type": "code",
   "execution_count": 6,
   "metadata": {
    "ExecuteTime": {
     "end_time": "2020-02-15T10:09:08.221629Z",
     "start_time": "2020-02-15T10:09:08.213708Z"
    },
    "code_folding": []
   },
   "outputs": [],
   "source": [
    "class MyStreamListener(tweepy.StreamListener):           \n",
    "    def __init__(self, api=None):\n",
    "        super().__init__()\n",
    "        self.accept_retweet = False\n",
    "        self.stop_count = 30000\n",
    "        self.count = 0\n",
    "        \n",
    "    def write_csv(self, data):\n",
    "        if not os.path.exists('tweets.csv'):\n",
    "            with open('tweets.csv', 'a') as outfile:\n",
    "                writer = csv.writer(outfile)\n",
    "                cols = ['id', 'created_at', 'favorite_count', 'retweet_count', 'text', 'extended_tweet',\n",
    "                       'source', 'coordinates', 'screen_name', 'created_at', 'followers_count', 'verified']\n",
    "                writer.writerow(cols)\n",
    "        with open('tweets.csv', 'a') as outfile:\n",
    "            writer = csv.writer(outfile)\n",
    "            writer.writerow(data)\n",
    "            \n",
    "    def on_status(self, status):        \n",
    "        try:\n",
    "            if self.count >= self.stop_count: # stop streaming\n",
    "                return False\n",
    "\n",
    "            json_str = json.dumps(status._json, indent=4, sort_keys=True)        \n",
    "            json_obj = json.loads(json_str)\n",
    "\n",
    "            if json_obj.get('retweeted_status'):\n",
    "                isRetweet = True\n",
    "            else:\n",
    "                isRetweet = False\n",
    "\n",
    "            # Do we accept retweet or not\n",
    "            if isRetweet == self.accept_retweet:             \n",
    "                item = []\n",
    "                # Tweet information\n",
    "                item.append(json_obj['id']) # The integer representation of the unique identifier for this Tweet\n",
    "                item.append(json_obj['created_at']) # UTC time when this Tweet was created.\n",
    "                item.append(json_obj['favorite_count']) # Nullable. Indicates approximately how many times this Tweet has been liked by Twitter users\n",
    "                item.append(json_obj['retweet_count']) # Number of times this Tweet has been retweeted.\n",
    "                item.append(json_obj['text']) # Actual text posted\n",
    "                if json_obj.get('extended_tweet'):\n",
    "                    item.append(json_obj['extended_tweet']['full_text']) # full text when over 280 chars limit    \n",
    "                else:\n",
    "                    item.append(None)\n",
    "                item.append(json_obj['source']) # Utility used to post the Tweet\n",
    "                item.append(json_obj['coordinates']) # Nullable. Represents the geographic location of this Tweet as reported by the user or client application.\n",
    "\n",
    "                # User information\n",
    "                item.append(json_obj['user']['screen_name']) # user who post this\n",
    "                item.append(json_obj['user']['created_at']) # user account creation date\n",
    "                item.append(json_obj['user']['followers_count']) # The number of followers this account currently has.\n",
    "                item.append(json_obj['user']['verified']) # When true, indicates that the user has a verified account.        \n",
    "                self.write_csv(item)\n",
    "                # print(json_obj['text'])\n",
    "                self.count += 1\n",
    "                if self.count % 1000 == 0:\n",
    "                    print(self.count)\n",
    "        except Exception as e:\n",
    "            print(str(ex))\n",
    "            \n",
    "    def on_error(self, status_code):\n",
    "        if status_code == 420:\n",
    "            return False"
   ]
  },
  {
   "cell_type": "code",
   "execution_count": 7,
   "metadata": {
    "ExecuteTime": {
     "end_time": "2020-02-15T10:09:10.397724Z",
     "start_time": "2020-02-15T10:09:10.389424Z"
    }
   },
   "outputs": [],
   "source": [
    "auth = tweepy.OAuthHandler(twitter_keys['consumer_key'], twitter_keys['consumer_secret'])\n",
    "auth.set_access_token(twitter_keys['access_token_key'], twitter_keys['access_token_secret'])\n",
    "api = tweepy.API(auth)\n",
    "\n",
    "myStreamListener = MyStreamListener()\n",
    "myStream = tweepy.Stream(auth = api.auth, listener=myStreamListener)\n",
    "\n",
    "track_terms = ['covid19', 'wuhanvirus', 'Coronavirus', 'COVIDー19',\n",
    "               'infected', '2019nCoV', 'WuhanOutbreak', 'Singapore']\n",
    "languages = ['en']\n",
    "region = [103.566667,1.154266,104.093392,1.485141]\n",
    "myStream.filter(track=track_terms, locations=region, languages=languages,\n",
    "                filter_level='low', is_async=True)"
   ]
  },
  {
   "cell_type": "code",
   "execution_count": null,
   "metadata": {
    "ExecuteTime": {
     "end_time": "2020-02-15T08:52:04.562833Z",
     "start_time": "2020-02-15T08:52:04.552622Z"
    }
   },
   "outputs": [],
   "source": []
  },
  {
   "cell_type": "code",
   "execution_count": 8,
   "metadata": {},
   "outputs": [],
   "source": [
    "\n",
    "def clean_tweet(self, tweet): \n",
    "    ''' \n",
    "    Use sumple regex statemnents to clean tweet text by removing links and special characters\n",
    "    '''\n",
    "    return ' '.join(re.sub(\"(@[A-Za-z0-9]+)|([^0-9A-Za-z \\t]) \\\n",
    "                                |(\\w+:\\/\\/\\S+)\", \" \", tweet).split()) \n",
    "def deEmojify(text):\n",
    "    '''\n",
    "    Strip all non-ASCII characters to remove emoji characters\n",
    "    '''\n",
    "    if text:\n",
    "        return text.encode('ascii', 'ignore').decode('ascii')\n",
    "    else:\n",
    "        return None"
   ]
  },
  {
   "cell_type": "code",
   "execution_count": 9,
   "metadata": {},
   "outputs": [],
   "source": [
    "# Import package\n",
    "import tweepy\n",
    "import json\n",
    "\n",
    "class MyStreamListener(tweepy.StreamListener):\n",
    "    def __init__(self, api=None):\n",
    "        super(MyStreamListener, self).__init__()\n",
    "        self.num_tweets = 0\n",
    "        self.file = open(\"tweets.txt\", \"w\")\n",
    "    def on_status(self, status):\n",
    "        tweet = status._json\n",
    "        self.file.write(json.dumps(tweet) + '\\n')\n",
    "        tweet_list.append(status)\n",
    "        self.num_tweets += 1\n",
    "        if self.num_tweets < 10:\n",
    "            return True\n",
    "        else:\n",
    "            return False\n",
    "        self.file.close()\n",
    "\n",
    "# Store OAuth authentication credentials in relevant variables (these are DataCamp tokens)\n",
    "access_token = \"1092294848-aHN7DcRP9B4VMTQIhwqOYiB14YkW92fFO8k8EPy\"\n",
    "access_token_secret = \"X4dHmhPfaksHcQ7SCbmZa2oYBBVSD2g8uIHXsp5CTaksx\"\n",
    "consumer_key = \"nZ6EA0FxZ293SxGNg8g8aP0HM\"\n",
    "consumer_secret = \"fJGEodwe3KiKUnsYJC3VRndj7jevVvXbK2D5EiJ2nehafRgA6i\"\n",
    "\n",
    "# Pass OAuth details to tweepy's OAuth handler\n",
    "auth = tweepy.OAuthHandler(consumer_key, consumer_secret)\n",
    "auth.set_access_token(access_token, access_token_secret)\n",
    "\n",
    "# Initialize Stream listener\n",
    "l = MyStreamListener()\n",
    "\n",
    "# Create you Stream object with authentication\n",
    "stream = tweepy.Stream(auth, l)\n",
    "\n",
    "\n",
    "# Filter Twitter Streams to capture data by the keywords:\n",
    "stream.filter(track=['covid19', 'wuhanvirus', 'Coronavirus', 'COVIDー19',\n",
    "               'infected', '2019nCoV', 'WuhanOutbreak', 'Singapore'])"
   ]
  },
  {
   "cell_type": "code",
   "execution_count": 10,
   "metadata": {},
   "outputs": [
    {
     "data": {
      "text/plain": [
       "<tweepy.streaming.Stream at 0x27ef804da20>"
      ]
     },
     "execution_count": 10,
     "metadata": {},
     "output_type": "execute_result"
    }
   ],
   "source": [
    "stream"
   ]
  },
  {
   "cell_type": "code",
   "execution_count": 11,
   "metadata": {},
   "outputs": [
    {
     "name": "stderr",
     "output_type": "stream",
     "text": [
      "Exception in thread Thread-6:\n",
      "Traceback (most recent call last):\n",
      "  File \"<ipython-input-6-5b401450e1ce>\", line 53, in on_status\n",
      "    self.write_csv(item)\n",
      "  File \"<ipython-input-6-5b401450e1ce>\", line 17, in write_csv\n",
      "    writer.writerow(data)\n",
      "  File \"c:\\users\\65848\\appdata\\local\\programs\\python\\python36\\lib\\encodings\\cp1252.py\", line 19, in encode\n",
      "    return codecs.charmap_encode(input,self.errors,encoding_table)[0]\n",
      "UnicodeEncodeError: 'charmap' codec can't encode characters in position 56-57: character maps to <undefined>\n",
      "\n",
      "During handling of the above exception, another exception occurred:\n",
      "\n",
      "Traceback (most recent call last):\n",
      "  File \"c:\\users\\65848\\appdata\\local\\programs\\python\\python36\\lib\\threading.py\", line 916, in _bootstrap_inner\n",
      "    self.run()\n",
      "  File \"c:\\users\\65848\\appdata\\local\\programs\\python\\python36\\lib\\threading.py\", line 864, in run\n",
      "    self._target(*self._args, **self._kwargs)\n",
      "  File \"c:\\users\\65848\\appdata\\local\\programs\\python\\python36\\lib\\site-packages\\tweepy\\streaming.py\", line 320, in _run\n",
      "    six.reraise(*exc_info)\n",
      "  File \"c:\\users\\65848\\appdata\\local\\programs\\python\\python36\\lib\\site-packages\\six.py\", line 693, in reraise\n",
      "    raise value\n",
      "  File \"c:\\users\\65848\\appdata\\local\\programs\\python\\python36\\lib\\site-packages\\tweepy\\streaming.py\", line 289, in _run\n",
      "    self._read_loop(resp)\n",
      "  File \"c:\\users\\65848\\appdata\\local\\programs\\python\\python36\\lib\\site-packages\\tweepy\\streaming.py\", line 351, in _read_loop\n",
      "    self._data(next_status_obj)\n",
      "  File \"c:\\users\\65848\\appdata\\local\\programs\\python\\python36\\lib\\site-packages\\tweepy\\streaming.py\", line 323, in _data\n",
      "    if self.listener.on_data(data) is False:\n",
      "  File \"c:\\users\\65848\\appdata\\local\\programs\\python\\python36\\lib\\site-packages\\tweepy\\streaming.py\", line 54, in on_data\n",
      "    if self.on_status(status) is False:\n",
      "  File \"<ipython-input-6-5b401450e1ce>\", line 59, in on_status\n",
      "    print(str(ex))\n",
      "NameError: name 'ex' is not defined\n",
      "\n"
     ]
    },
    {
     "ename": "NameError",
     "evalue": "name 'tweets_data' is not defined",
     "output_type": "error",
     "traceback": [
      "\u001b[1;31m---------------------------------------------------------------------------\u001b[0m",
      "\u001b[1;31mNameError\u001b[0m                                 Traceback (most recent call last)",
      "\u001b[1;32m<ipython-input-11-793c05b16619>\u001b[0m in \u001b[0;36m<module>\u001b[1;34m\u001b[0m\n\u001b[0;32m      3\u001b[0m \u001b[1;33m\u001b[0m\u001b[0m\n\u001b[0;32m      4\u001b[0m \u001b[1;31m# Build DataFrame of tweet texts and languages\u001b[0m\u001b[1;33m\u001b[0m\u001b[1;33m\u001b[0m\u001b[1;33m\u001b[0m\u001b[0m\n\u001b[1;32m----> 5\u001b[1;33m \u001b[0mdf\u001b[0m \u001b[1;33m=\u001b[0m \u001b[0mpd\u001b[0m\u001b[1;33m.\u001b[0m\u001b[0mDataFrame\u001b[0m\u001b[1;33m(\u001b[0m\u001b[0mtweets_data\u001b[0m\u001b[1;33m,\u001b[0m \u001b[0mcolumns\u001b[0m\u001b[1;33m=\u001b[0m\u001b[1;33m[\u001b[0m\u001b[1;34m'text'\u001b[0m\u001b[1;33m,\u001b[0m \u001b[1;34m'lang'\u001b[0m\u001b[1;33m]\u001b[0m\u001b[1;33m)\u001b[0m\u001b[1;33m\u001b[0m\u001b[1;33m\u001b[0m\u001b[0m\n\u001b[0m\u001b[0;32m      6\u001b[0m \u001b[1;33m\u001b[0m\u001b[0m\n\u001b[0;32m      7\u001b[0m \u001b[1;31m# Print head of DataFrame\u001b[0m\u001b[1;33m\u001b[0m\u001b[1;33m\u001b[0m\u001b[1;33m\u001b[0m\u001b[0m\n",
      "\u001b[1;31mNameError\u001b[0m: name 'tweets_data' is not defined"
     ]
    }
   ],
   "source": [
    "# Import package\n",
    "import pandas as pd\n",
    "\n",
    "# Build DataFrame of tweet texts and languages\n",
    "df = pd.DataFrame(tweets_data, columns=['text', 'lang'])\n",
    "\n",
    "# Print head of DataFrame\n",
    "print(df.head())"
   ]
  },
  {
   "cell_type": "code",
   "execution_count": null,
   "metadata": {},
   "outputs": [],
   "source": [
    "# Import package\n",
    "import tweepy\n",
    "\n",
    "# Store OAuth authentication credentials in relevant variables (these are DataCamp tokens)\n",
    "access_token = \"1092294848-aHN7DcRP9B4VMTQIhwqOYiB14YkW92fFO8k8EPy\"\n",
    "access_token_secret = \"X4dHmhPfaksHcQ7SCbmZa2oYBBVSD2g8uIHXsp5CTaksx\"\n",
    "consumer_key = \"nZ6EA0FxZ293SxGNg8g8aP0HM\"\n",
    "consumer_secret = \"fJGEodwe3KiKUnsYJC3VRndj7jevVvXbK2D5EiJ2nehafRgA6i\"\n",
    "\n",
    "# Pass OAuth details to tweepy's OAuth handler\n",
    "auth = tweepy.OAuthHandler(consumer_key, consumer_secret)\n",
    "auth.set_access_token(access_token, access_token_secret)"
   ]
  }
 ],
 "metadata": {
  "kernelspec": {
   "display_name": "Python 3",
   "language": "python",
   "name": "python3"
  },
  "language_info": {
   "codemirror_mode": {
    "name": "ipython",
    "version": 3
   },
   "file_extension": ".py",
   "mimetype": "text/x-python",
   "name": "python",
   "nbconvert_exporter": "python",
   "pygments_lexer": "ipython3",
   "version": "3.6.8"
  },
  "toc": {
   "base_numbering": 1,
   "nav_menu": {},
   "number_sections": true,
   "sideBar": true,
   "skip_h1_title": false,
   "title_cell": "Table of Contents",
   "title_sidebar": "Contents",
   "toc_cell": false,
   "toc_position": {},
   "toc_section_display": true,
   "toc_window_display": false
  }
 },
 "nbformat": 4,
 "nbformat_minor": 2
}
