{
 "cells": [
  {
   "cell_type": "markdown",
   "metadata": {},
   "source": [
    "#  Live RSS Feed Parsing \n",
    "Edited by: Jia Xin \n",
    "Date: 26 OCt 2019 \n"
   ]
  },
  {
   "cell_type": "markdown",
   "metadata": {},
   "source": [
    "The code belows takes in feed from RSS. \n",
    "Adapted from: \n",
    "https://www.tutorialspoint.com/python_text_processing/python_reading_rss_feed.htm\n",
    "http://jcutrer.com/howto/dev/python/python-tutorial-howto-parse-rss-headlines\n"
   ]
  },
  {
   "cell_type": "code",
   "execution_count": 2,
   "metadata": {},
   "outputs": [],
   "source": [
    "import feedparser"
   ]
  },
  {
   "cell_type": "code",
   "execution_count": 3,
   "metadata": {},
   "outputs": [],
   "source": [
    "NewsFeed = feedparser.parse(\"https://news.google.com/news/rss/?hl=en&amp;ned=us&amp;gl=US\")"
   ]
  },
  {
   "cell_type": "code",
   "execution_count": 4,
   "metadata": {},
   "outputs": [
    {
     "name": "stdout",
     "output_type": "stream",
     "text": [
      "Number of RSS posts : 38\n"
     ]
    }
   ],
   "source": [
    "print ('Number of RSS posts :',len(NewsFeed.entries))"
   ]
  },
  {
   "cell_type": "code",
   "execution_count": 5,
   "metadata": {},
   "outputs": [
    {
     "name": "stdout",
     "output_type": "stream",
     "text": [
      "Post Title : Now Trump says it's wrong to compare coronavirus to regular flu - The Straits Times\n"
     ]
    }
   ],
   "source": [
    "entry = NewsFeed.entries[4]\n",
    "print ('Post Title :',entry.title)"
   ]
  },
  {
   "cell_type": "code",
   "execution_count": 6,
   "metadata": {
    "scrolled": true
   },
   "outputs": [
    {
     "name": "stdout",
     "output_type": "stream",
     "text": [
      "Exclusive: KKR shelves $2 billion sale of Singapore-based Goodpack due to market slump: sources\n",
      "Stocks give up meager gains as virus anxiety prevails\n",
      "Asia's factory activity plunges as coronavirus shock deepens\n",
      "Apple doubles China donations for COVID-19 recovery efforts\n",
      "U.S. pension funds may pour $400 billion into stocks, lifting virus-hit markets: JP Morgan\n",
      "Dollar firms as investors brace for global downturn\n",
      "Oil prices fall as U.S. inventory build-up heightens oversupply concerns\n",
      "UK banks scrap dividends on coronavirus fears, pressure on bonuses\n",
      "New York City to probe Amazon firing of warehouse worker\n",
      "Xerox abandons $35 billion hostile bid for HP\n",
      "Fiat Chrysler does not see delay in PSA merger, FIOM union says\n",
      "Exclusive: U.S. aims to lease space in emergency oil stockpile, after buying plan canceled - sources\n",
      "Bond investor Jeffrey Gundlach bets stocks March lows to be surpassed in April\n",
      "U.S.-Saudi oil alliance idea born at White House, put on back burner for now\n",
      "Trump says he may join Saudi, Russia in talks on oil prices\n",
      "U.S. backs minimum flights on airline routes in assistance review\n",
      "Macy's to drop from S&P 500 to small-cap index\n",
      "Independent worker group calls for Whole Foods 'sick out' over coronavirus\n",
      "Zoom takes lead over Microsoft Teams as coronavirus keeps Americans at home\n",
      "Dow sinks, virus pushes it to sharpest quarterly plunge in over three decades\n",
      "European stock index futures slide as more coronavirus damage revealed\n",
      "Expectations for European corporate earnings plummet\n",
      "Asian shares hold on to gains but virus keeps markets on edge\n",
      "Asia's factory activity plunges as coronavirus shock deepens\n",
      "With Japan on brink of coronavirus emergency, Tokyo could keep schools closed until May\n",
      "'Sailors do not need to die,' warns captain of coronavirus-hit U.S. aircraft carrier\n",
      "China starts to report asymptomatic coronavirus cases\n",
      "UK coronavirus deaths rise by 27%, minister laments 'shocking' toll\n",
      "Australia opens pop-up coronavirus test clinic at Bondi Beach\n",
      "Stocks under pressure after biggest quarterly drop since 2008\n",
      "China factory activity shows minimal growth in March after plunge, still in virus grip\n",
      "Teenage boy dies in London after testing positive for coronavirus\n",
      "UK banks scrap dividends on coronavirus fears, pressure on bonuses\n",
      "U.S. death toll spirals amid rush to build field hospitals, find supplies\n",
      "U.S. emergency medical stockpile nearly out of protective gear as demand rises -officials\n",
      "With Republicans wary of more coronavirus spending, Trump urges infrastructure plan\n",
      "Loss of taste, smell key COVID-19 symptoms - British scientists' study\n",
      "UK shop prices fall by most in nearly two years - BRC\n",
      "With 2020 race all but halted over coronavirus, Biden quietly widens lead over Trump - Reuters/Ipsos poll\n",
      "U.S. backs minimum flights on airline routes in assistance review\n"
     ]
    }
   ],
   "source": [
    "# Function to fetch the rss feed and return the parsed RSS\n",
    "def parseRSS( rss_url ):\n",
    "    return feedparser.parse( rss_url ) \n",
    "    \n",
    "# Function grabs the rss feed headlines (titles) and returns them as a list\n",
    "def getHeadlines( rss_url ):\n",
    "    headlines = []\n",
    "    \n",
    "    feed = parseRSS( rss_url )\n",
    "    for newsitem in feed['items']:\n",
    "        headlines.append(newsitem['title'])\n",
    "    \n",
    "    return headlines\n",
    " \n",
    "# A list to hold all headlines\n",
    "allheadlines = []\n",
    " \n",
    "# List of RSS feeds that we will fetch and combine\n",
    "newsurls = {\n",
    "    'apnews':           'http://hosted2.ap.org/atom/APDEFAULT/3d281c11a96b4ad082fe88aa0db04305',\n",
    "#    'googlenews':       'https://news.google.com/news/rss/?hl=en&amp;ned=us&amp;gl=US',\n",
    "#    'yahoonews':        'http://news.yahoo.com/rss/',\n",
    "    'reutersBiznews':   'http://feeds.reuters.com/reuters/businessNews/',\n",
    "#     'reutersWealth':   'http://feeds.reuters.com/news/wealth/',\n",
    "     'reuters':          'http://feeds.reuters.com/reuters/UKTopNews'\n",
    "    \n",
    "   \n",
    "}\n",
    " \n",
    "# Iterate over the feed urls\n",
    "for key,url in newsurls.items():\n",
    "    # Call getHeadlines() and combine the returned headlines with allheadlines\n",
    "    allheadlines.extend( getHeadlines( url ) )\n",
    " \n",
    " \n",
    "# Iterate over the allheadlines list and print each headline\n",
    "for hl in allheadlines:\n",
    "    print(hl)\n",
    " \n",
    " \n",
    "# end of code "
   ]
  },
  {
   "cell_type": "code",
   "execution_count": 7,
   "metadata": {},
   "outputs": [
    {
     "name": "stderr",
     "output_type": "stream",
     "text": [
      "Using TensorFlow backend.\n"
     ]
    }
   ],
   "source": [
    "from keras.datasets import reuters"
   ]
  },
  {
   "cell_type": "markdown",
   "metadata": {},
   "source": [
    "NLTK’s built-in Vader Sentiment Analyzer will simply rank a piece of text as positive, negative or neutral using a lexicon of positive and negative words.\n",
    "\n",
    "We can utilize this tool by first creating a Sentiment Intensity Analyzer (SIA) to categorize our headlines, then we'll use the polarity_scores method to get the sentiment.\n",
    "\n",
    "We'll append each sentiment dictionary to a results list, which we'll transform into a dataframe:\n"
   ]
  },
  {
   "cell_type": "code",
   "execution_count": 8,
   "metadata": {},
   "outputs": [],
   "source": [
    "import praw\n",
    "\n",
    "reddit = praw.Reddit(client_id='NMHn-NKsAB5CSA',\n",
    "                     client_secret='9yRBsKdCeTVirWwDd9K1r9dF0Xc',\n",
    "                     user_agent='Jia')"
   ]
  },
  {
   "cell_type": "code",
   "execution_count": 9,
   "metadata": {},
   "outputs": [],
   "source": [
    "headlines = set()"
   ]
  },
  {
   "cell_type": "code",
   "execution_count": 10,
   "metadata": {},
   "outputs": [
    {
     "ename": "AttributeError",
     "evalue": "'function' object has no attribute 'clear_output'",
     "output_type": "error",
     "traceback": [
      "\u001b[1;31m---------------------------------------------------------------------------\u001b[0m",
      "\u001b[1;31mAttributeError\u001b[0m                            Traceback (most recent call last)",
      "\u001b[1;32m<ipython-input-10-6bb18de2f78c>\u001b[0m in \u001b[0;36m<module>\u001b[1;34m\u001b[0m\n\u001b[0;32m      1\u001b[0m \u001b[1;32mfor\u001b[0m \u001b[0msubmission\u001b[0m \u001b[1;32min\u001b[0m \u001b[0mreddit\u001b[0m\u001b[1;33m.\u001b[0m\u001b[0msubreddit\u001b[0m\u001b[1;33m(\u001b[0m\u001b[1;34m'politics'\u001b[0m\u001b[1;33m)\u001b[0m\u001b[1;33m.\u001b[0m\u001b[0mnew\u001b[0m\u001b[1;33m(\u001b[0m\u001b[0mlimit\u001b[0m\u001b[1;33m=\u001b[0m\u001b[1;32mNone\u001b[0m\u001b[1;33m)\u001b[0m\u001b[1;33m:\u001b[0m\u001b[1;33m\u001b[0m\u001b[1;33m\u001b[0m\u001b[0m\n\u001b[0;32m      2\u001b[0m     \u001b[0mheadlines\u001b[0m\u001b[1;33m.\u001b[0m\u001b[0madd\u001b[0m\u001b[1;33m(\u001b[0m\u001b[0msubmission\u001b[0m\u001b[1;33m.\u001b[0m\u001b[0mtitle\u001b[0m\u001b[1;33m)\u001b[0m\u001b[1;33m\u001b[0m\u001b[1;33m\u001b[0m\u001b[0m\n\u001b[1;32m----> 3\u001b[1;33m     \u001b[0mdisplay\u001b[0m\u001b[1;33m.\u001b[0m\u001b[0mclear_output\u001b[0m\u001b[1;33m(\u001b[0m\u001b[1;33m)\u001b[0m\u001b[1;33m\u001b[0m\u001b[1;33m\u001b[0m\u001b[0m\n\u001b[0m\u001b[0;32m      4\u001b[0m     \u001b[0mprint\u001b[0m\u001b[1;33m(\u001b[0m\u001b[0mlen\u001b[0m\u001b[1;33m(\u001b[0m\u001b[0mheadlines\u001b[0m\u001b[1;33m)\u001b[0m\u001b[1;33m)\u001b[0m\u001b[1;33m\u001b[0m\u001b[1;33m\u001b[0m\u001b[0m\n",
      "\u001b[1;31mAttributeError\u001b[0m: 'function' object has no attribute 'clear_output'"
     ]
    }
   ],
   "source": [
    "for submission in reddit.subreddit('politics').new(limit=None):\n",
    "    headlines.add(submission.title)\n",
    "    display.clear_output()\n",
    "    print(len(headlines))"
   ]
  },
  {
   "cell_type": "code",
   "execution_count": null,
   "metadata": {},
   "outputs": [],
   "source": [
    "from nltk.sentiment.vader import SentimentIntensityAnalyzer as SIA"
   ]
  },
  {
   "cell_type": "code",
   "execution_count": 28,
   "metadata": {},
   "outputs": [
    {
     "ename": "TypeError",
     "evalue": "'width' is an invalid keyword argument for this function",
     "output_type": "error",
     "traceback": [
      "\u001b[1;31m---------------------------------------------------------------------------\u001b[0m",
      "\u001b[1;31mTypeError\u001b[0m                                 Traceback (most recent call last)",
      "\u001b[1;32m<ipython-input-28-d619c0b90dee>\u001b[0m in \u001b[0;36m<module>\u001b[1;34m\u001b[0m\n\u001b[0;32m      7\u001b[0m     \u001b[0mresults\u001b[0m\u001b[1;33m.\u001b[0m\u001b[0mappend\u001b[0m\u001b[1;33m(\u001b[0m\u001b[0mpol_score\u001b[0m\u001b[1;33m)\u001b[0m\u001b[1;33m\u001b[0m\u001b[1;33m\u001b[0m\u001b[0m\n\u001b[0;32m      8\u001b[0m \u001b[1;33m\u001b[0m\u001b[0m\n\u001b[1;32m----> 9\u001b[1;33m \u001b[0mprint\u001b[0m\u001b[1;33m(\u001b[0m\u001b[0mresults\u001b[0m\u001b[1;33m[\u001b[0m\u001b[1;33m:\u001b[0m\u001b[1;36m3\u001b[0m\u001b[1;33m]\u001b[0m\u001b[1;33m,\u001b[0m \u001b[0mwidth\u001b[0m\u001b[1;33m=\u001b[0m\u001b[1;36m100\u001b[0m\u001b[1;33m)\u001b[0m\u001b[1;33m\u001b[0m\u001b[1;33m\u001b[0m\u001b[0m\n\u001b[0m",
      "\u001b[1;31mTypeError\u001b[0m: 'width' is an invalid keyword argument for this function"
     ]
    }
   ],
   "source": [
    "sia = SIA()\n",
    "results = []\n",
    "\n",
    "for line in headlines:\n",
    "    pol_score = sia.polarity_scores(line)\n",
    "    pol_score['headline'] = line\n",
    "    results.append(pol_score)\n",
    "\n",
    "print(results[:3], width=100)"
   ]
  },
  {
   "cell_type": "code",
   "execution_count": null,
   "metadata": {},
   "outputs": [],
   "source": []
  }
 ],
 "metadata": {
  "kernelspec": {
   "display_name": "Python 3",
   "language": "python",
   "name": "python3"
  },
  "language_info": {
   "codemirror_mode": {
    "name": "ipython",
    "version": 3
   },
   "file_extension": ".py",
   "mimetype": "text/x-python",
   "name": "python",
   "nbconvert_exporter": "python",
   "pygments_lexer": "ipython3",
   "version": "3.6.8"
  }
 },
 "nbformat": 4,
 "nbformat_minor": 2
}
