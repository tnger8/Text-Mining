{
 "cells": [
  {
   "cell_type": "code",
   "execution_count": 1,
   "metadata": {},
   "outputs": [],
   "source": [
    "# -*- coding: utf-8 -*-\n",
    "\"\"\"\n",
    "Created on Fri Sep 28 23:58:14 2018\n",
    "\n",
    "@author: issfz\n",
    "\"\"\"\n",
    "\n",
    "import string\n",
    "from nltk.collocations import BigramCollocationFinder, TrigramCollocationFinder\n",
    "from nltk.metrics import BigramAssocMeasures, TrigramAssocMeasures\n",
    "from nltk.corpus import stopwords, reuters\n"
   ]
  },
  {
   "cell_type": "code",
   "execution_count": 2,
   "metadata": {},
   "outputs": [],
   "source": [
    "# Let's use the category \\\"crude\\\" documents from reuters corpus\n",
    "# Use the tokenized words and change them to lowercase\n",
    "crude_tok = [ reuters.words(f) for f in reuters.fileids('crude') ]\n",
    "words = [ w.lower() for f in crude_tok for w in f ]"
   ]
  },
  {
   "cell_type": "code",
   "execution_count": 3,
   "metadata": {},
   "outputs": [],
   "source": [
    "words = [ w.lower() for f in crude_tok for w in f ]"
   ]
  },
  {
   "cell_type": "code",
   "execution_count": 4,
   "metadata": {},
   "outputs": [],
   "source": [
    "# Find bigram collocations (two-word phrases) from the data\n",
    "# Get the top 20 collocations using the selected metrics\n",
    "bcf = BigramCollocationFinder.from_words(words)\n",
    "top20 = bcf.nbest(BigramAssocMeasures.likelihood_ratio, 10)"
   ]
  },
  {
   "cell_type": "code",
   "execution_count": 5,
   "metadata": {},
   "outputs": [
    {
     "data": {
      "text/plain": [
       "[(\"'\", 's'),\n",
       " ('&', 'lt'),\n",
       " ('lt', ';'),\n",
       " ('u', '.'),\n",
       " (',', '000'),\n",
       " ('said', '.'),\n",
       " ('crude', 'oil'),\n",
       " ('in', 'the'),\n",
       " ('a', 'barrel'),\n",
       " ('mln', 'barrels')]"
      ]
     },
     "execution_count": 5,
     "metadata": {},
     "output_type": "execute_result"
    }
   ],
   "source": [
    "top20"
   ]
  },
  {
   "cell_type": "code",
   "execution_count": 6,
   "metadata": {},
   "outputs": [],
   "source": [
    "# In the above results, although we get useful collocations like \\\"crude oil\\\", \n",
    "# we also get a lot of noises. Those can be filtered off.\n",
    "# Let's filter off stopwords and anything less than two characters long.\n",
    "stopset = set(stopwords.words('english'))\n",
    "filter_stops = lambda w: len(w) < 3 or w in stopset or w.isdigit()\n"
   ]
  },
  {
   "cell_type": "code",
   "execution_count": 7,
   "metadata": {},
   "outputs": [],
   "source": [
    "bcf.apply_word_filter(filter_stops)"
   ]
  },
  {
   "cell_type": "code",
   "execution_count": 8,
   "metadata": {},
   "outputs": [
    {
     "data": {
      "text/plain": [
       "[('crude', 'oil'),\n",
       " ('mln', 'barrels'),\n",
       " ('saudi', 'arabia'),\n",
       " ('mln', 'bpd'),\n",
       " ('per', 'day'),\n",
       " ('united', 'states'),\n",
       " ('natural', 'gas'),\n",
       " ('last', 'year'),\n",
       " ('barrels', 'per'),\n",
       " ('oil', 'prices')]"
      ]
     },
     "execution_count": 8,
     "metadata": {},
     "output_type": "execute_result"
    }
   ],
   "source": [
    "# Are the results better now?\n",
    "bcf.nbest(BigramAssocMeasures.likelihood_ratio, 10)"
   ]
  },
  {
   "cell_type": "code",
   "execution_count": 9,
   "metadata": {},
   "outputs": [
    {
     "data": {
      "text/plain": [
       "[('40th', 'anniversary'),\n",
       " ('abdulla', 'bakr'),\n",
       " ('acknowledge', 'responsibility'),\n",
       " ('alice', 'springs'),\n",
       " ('almir', 'pazzionotto'),\n",
       " ('amerada', 'hess'),\n",
       " ('antonio', 'parra'),\n",
       " ('anyone', 'thinks'),\n",
       " ('arifin', 'siregar'),\n",
       " ('arne', 'oeien')]"
      ]
     },
     "execution_count": 9,
     "metadata": {},
     "output_type": "execute_result"
    }
   ],
   "source": [
    "# There are quite a number of metrics available. Experiment to see which one gives you better collocations.\n",
    "bcf.nbest(BigramAssocMeasures.chi_sq, 10)"
   ]
  },
  {
   "cell_type": "code",
   "execution_count": 10,
   "metadata": {},
   "outputs": [
    {
     "data": {
      "text/plain": [
       "[('40th', 'anniversary'),\n",
       " ('abdulla', 'bakr'),\n",
       " ('acknowledge', 'responsibility'),\n",
       " ('alice', 'springs'),\n",
       " ('antonio', 'parra'),\n",
       " ('anyone', 'thinks'),\n",
       " ('arifin', 'siregar'),\n",
       " ('arnold', 'safer'),\n",
       " ('asahi', 'shimbun'),\n",
       " ('asbestos', 'fibre')]"
      ]
     },
     "execution_count": 10,
     "metadata": {},
     "output_type": "execute_result"
    }
   ],
   "source": [
    "bcf.nbest(BigramAssocMeasures.pmi, 10)"
   ]
  },
  {
   "cell_type": "code",
   "execution_count": 11,
   "metadata": {},
   "outputs": [
    {
     "data": {
      "text/plain": [
       "[('crude', 'oil'),\n",
       " ('mln', 'barrels'),\n",
       " ('mln', 'bpd'),\n",
       " ('oil', 'prices'),\n",
       " ('mln', 'dlrs'),\n",
       " ('last', 'year'),\n",
       " ('saudi', 'arabia'),\n",
       " ('per', 'day'),\n",
       " ('billion', 'dlrs'),\n",
       " ('barrels', 'per')]"
      ]
     },
     "execution_count": 11,
     "metadata": {},
     "output_type": "execute_result"
    }
   ],
   "source": [
    "bcf.nbest(BigramAssocMeasures.raw_freq, 10)"
   ]
  },
  {
   "cell_type": "code",
   "execution_count": 12,
   "metadata": {},
   "outputs": [],
   "source": [
    "# Now try getting the trigram collocations\n",
    "tcf = TrigramCollocationFinder.from_words(words)"
   ]
  },
  {
   "cell_type": "code",
   "execution_count": 13,
   "metadata": {},
   "outputs": [],
   "source": [
    "tcf.apply_word_filter(filter_stops)"
   ]
  },
  {
   "cell_type": "code",
   "execution_count": 14,
   "metadata": {},
   "outputs": [
    {
     "data": {
      "text/plain": [
       "[('barrels', 'per', 'day'),\n",
       " ('crude', 'oil', 'prices'),\n",
       " ('mln', 'barrels', 'per'),\n",
       " ('raises', 'crude', 'oil'),\n",
       " ('crude', 'oil', 'postings'),\n",
       " ('crude', 'oil', 'production'),\n",
       " ('crude', 'oil', 'imports'),\n",
       " ('crude', 'oil', 'exports'),\n",
       " ('crude', 'oil', 'output'),\n",
       " ('crude', 'oil', 'stocks'),\n",
       " ('crude', 'oil', 'shipments'),\n",
       " ('crude', 'oil', 'reserves'),\n",
       " ('crude', 'oil', 'price'),\n",
       " ('crude', 'oil', 'posted'),\n",
       " ('dlrs', 'per', 'barrel'),\n",
       " ('crude', 'oil', 'market'),\n",
       " ('raised', 'crude', 'oil'),\n",
       " ('crude', 'oil', 'refined'),\n",
       " ('sweet', 'crude', 'oil'),\n",
       " ('crude', 'oil', 'pipeline')]"
      ]
     },
     "execution_count": 14,
     "metadata": {},
     "output_type": "execute_result"
    }
   ],
   "source": [
    "tcf.nbest(TrigramAssocMeasures.likelihood_ratio, 20)"
   ]
  },
  {
   "cell_type": "code",
   "execution_count": 15,
   "metadata": {},
   "outputs": [],
   "source": [
    "# Now try finding collocations from documents in another category. Do you get very different phrases?\n",
    "money_tok = [ reuters.words(f) for f in reuters.fileids('money-fx') ]"
   ]
  },
  {
   "cell_type": "code",
   "execution_count": 16,
   "metadata": {},
   "outputs": [],
   "source": [
    "words = [ w.lower() for f in money_tok for w in f ]\n",
    "bcf = BigramCollocationFinder.from_words(words)\n",
    "bcf.apply_word_filter(filter_stops)"
   ]
  },
  {
   "cell_type": "code",
   "execution_count": 17,
   "metadata": {},
   "outputs": [
    {
     "data": {
      "text/plain": [
       "[('mln', 'stg'),\n",
       " ('money', 'market'),\n",
       " ('central', 'bank'),\n",
       " ('west', 'germany'),\n",
       " ('foreign', 'exchange'),\n",
       " ('dealers', 'said'),\n",
       " ('interest', 'rates'),\n",
       " ('federal', 'reserve'),\n",
       " ('united', 'states'),\n",
       " ('billion', 'dlrs'),\n",
       " ('west', 'german'),\n",
       " ('exchange', 'rate'),\n",
       " ('exchange', 'rates'),\n",
       " ('secretary', 'james'),\n",
       " ('finance', 'minister'),\n",
       " ('new', 'york'),\n",
       " ('repurchase', 'agreements'),\n",
       " ('treasury', 'secretary'),\n",
       " ('james', 'baker'),\n",
       " ('louvre', 'accord')]"
      ]
     },
     "execution_count": 17,
     "metadata": {},
     "output_type": "execute_result"
    }
   ],
   "source": [
    "bcf.nbest(BigramAssocMeasures.likelihood_ratio, 20)"
   ]
  },
  {
   "cell_type": "code",
   "execution_count": 18,
   "metadata": {},
   "outputs": [],
   "source": [
    "# The functions can also be used to find collocations that are not side by side.\n",
    "bcf2 = BigramCollocationFinder.from_words(words, window_size = 10)\n",
    "bcf2.apply_word_filter(filter_stops)\n",
    "bcf2.apply_freq_filter(2)"
   ]
  },
  {
   "cell_type": "code",
   "execution_count": 19,
   "metadata": {},
   "outputs": [
    {
     "data": {
      "text/plain": [
       "[('mln', 'stg'),\n",
       " ('money', 'market'),\n",
       " ('central', 'bank'),\n",
       " ('west', 'germany'),\n",
       " ('foreign', 'exchange'),\n",
       " ('interest', 'rates'),\n",
       " ('federal', 'reserve'),\n",
       " ('billion', 'dlrs'),\n",
       " ('united', 'states'),\n",
       " ('west', 'german'),\n",
       " ('treasury', 'secretary'),\n",
       " ('secretary', 'james'),\n",
       " ('bank', 'england'),\n",
       " ('finance', 'minister'),\n",
       " ('repurchase', 'agreements'),\n",
       " ('exchange', 'rate'),\n",
       " ('dealers', 'said'),\n",
       " ('new', 'york'),\n",
       " ('louvre', 'accord'),\n",
       " ('stg', 'band')]"
      ]
     },
     "execution_count": 19,
     "metadata": {},
     "output_type": "execute_result"
    }
   ],
   "source": [
    "bcf2.nbest(BigramAssocMeasures.likelihood_ratio, 20)"
   ]
  }
 ],
 "metadata": {
  "kernelspec": {
   "display_name": "Python 3",
   "language": "python",
   "name": "python3"
  },
  "language_info": {
   "codemirror_mode": {
    "name": "ipython",
    "version": 3
   },
   "file_extension": ".py",
   "mimetype": "text/x-python",
   "name": "python",
   "nbconvert_exporter": "python",
   "pygments_lexer": "ipython3",
   "version": "3.6.5"
  }
 },
 "nbformat": 4,
 "nbformat_minor": 2
}
