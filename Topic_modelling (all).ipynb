{
 "cells": [
  {
   "cell_type": "code",
   "execution_count": 16,
   "metadata": {},
   "outputs": [],
   "source": [
    "import json\n",
    "from pprint import pprint"
   ]
  },
  {
   "cell_type": "code",
   "execution_count": 17,
   "metadata": {},
   "outputs": [
    {
     "data": {
      "text/plain": [
       "dict_keys(['index', 'content', 'date', 'tags', 'title', 'url'])"
      ]
     },
     "execution_count": 17,
     "metadata": {},
     "output_type": "execute_result"
    }
   ],
   "source": [
    "with open('train.json') as f:\n",
    "    data1=json.load(f)\n",
    "\n",
    "data1.keys()\n",
    "#pprint(data)"
   ]
  },
  {
   "cell_type": "code",
   "execution_count": 18,
   "metadata": {},
   "outputs": [
    {
     "data": {
      "text/plain": [
       "dict_keys(['index', 'content', 'date', 'tags', 'title', 'url'])"
      ]
     },
     "execution_count": 18,
     "metadata": {},
     "output_type": "execute_result"
    }
   ],
   "source": [
    "with open('test.json') as f:\n",
    "    data2=json.load(f)\n",
    "\n",
    "data1.keys()\n",
    "#pprint(data)"
   ]
  },
  {
   "cell_type": "code",
   "execution_count": 36,
   "metadata": {},
   "outputs": [
    {
     "name": "stdout",
     "output_type": "stream",
     "text": [
      "                                                   0\n",
      "0  Honda is recalling the 2017 Honda Ridgeline pi...\n",
      "1  This morning, Honda issued two safety recalls ...\n",
      "2  2016 was dominated by some pretty major headli...\n",
      "3  Last week, Hyundai recalled some 5,600 crossov...\n",
      "4  Fiat Chrysler Automobiles is recalling nearly ...\n",
      "(2835, 1)\n"
     ]
    }
   ],
   "source": [
    "import pandas as pd\n",
    "set=[]\n",
    "for k,v in data1['content'].items():\n",
    "    #print(k)\n",
    "    #print(v)\n",
    "    set.append(v)\n",
    "    \n",
    "import pandas as pd\n",
    "\n",
    "for k,v in data2['content'].items():\n",
    "    #print(k)\n",
    "    #print(v)\n",
    "    set.append(v)\n",
    "    \n",
    "df1=pd.DataFrame(set)\n",
    "print(df1.head())\n",
    "print(df1.shape)"
   ]
  },
  {
   "cell_type": "code",
   "execution_count": null,
   "metadata": {},
   "outputs": [],
   "source": []
  },
  {
   "cell_type": "code",
   "execution_count": 37,
   "metadata": {},
   "outputs": [],
   "source": [
    "df1.columns=['a']"
   ]
  },
  {
   "cell_type": "code",
   "execution_count": 38,
   "metadata": {},
   "outputs": [
    {
     "data": {
      "text/plain": [
       "0       Honda is recalling the 2017 Honda Ridgeline pi...\n",
       "1       This morning, Honda issued two safety recalls ...\n",
       "2       2016 was dominated by some pretty major headli...\n",
       "3       Last week, Hyundai recalled some 5,600 crossov...\n",
       "4       Fiat Chrysler Automobiles is recalling nearly ...\n",
       "5       Hyundai is recalling more than 5,600 Tucson an...\n",
       "6       The massive, record-breaking recall of Takatas...\n",
       "7       The National Highway Traffic Safety Administra...\n",
       "8       A little over a year ago, AutoNation made a ve...\n",
       "9       Ford has issued two recalls affecting nearly 6...\n",
       "10      Nissan is recalling select 2016 Titan Diesel X...\n",
       "11      Toyota is recalling the 2011-2016 Toyota Sienn...\n",
       "12      Kia has announced a recall of the 2008 and 200...\n",
       "13      This morning, Fiat Chrysler Automobiles issued...\n",
       "14      Mazda is recalling RX-8 vehicles from the 2004...\n",
       "15      Mitsubishi is recalling roughly 195,000 U.S. v...\n",
       "16      Volvo has issued recalls for 2016 and 2017 mod...\n",
       "17      Kia is recalling the 2016 Sorento crossover to...\n",
       "18      The long, sad saga of Takata and its fatally f...\n",
       "19      BMW is recalling a wide range of cars and cros...\n",
       "20      This morning, Ford Motor Company issued three ...\n",
       "21      Subaru is recalling more than 100,000 Forester...\n",
       "22      Toyota is recalling roughly 7,100 Highlander c...\n",
       "23      Hyundai is recalling nearly 63,000 Sonata Hybr...\n",
       "24      Fiat Chrysler Automobiles is recalling 2016 an...\n",
       "25      Hyundai is recalling the 2010-2016 Genesis Cou...\n",
       "26      The beloved Honda Civic received a snazzy rede...\n",
       "27      Kia is recalling select 2016 Kia Optima sedans...\n",
       "28      Toyota is recalling select 2016 and 2017 Toyot...\n",
       "29      On Friday, Volkswagens Audi unit recalled more...\n",
       "                              ...                        \n",
       "2805    The Basics: Hyundai is recalling 41,264 2007-2...\n",
       "2806    Whether due to faulty auxiliary cable wiring i...\n",
       "2807    UPDATE: An earlier version of this article sai...\n",
       "2808    Update: We spoke with a Ford representative wh...\n",
       "2809    The Basics: Bentley is recalling just 88 2017 ...\n",
       "2810    Chrysler announced a pair of recalls for the D...\n",
       "2811    According to Reuters, Toyota has reached a set...\n",
       "2812    The Basics: BMW is recalling 136,188 vehicles ...\n",
       "2813    WASHINGTON — Kia Motors Corp said on Friday it...\n",
       "2814    Toyota issued a stop-sale order on the Prius o...\n",
       "2815    The Basics: Subaru is recalling a total of 100...\n",
       "2816    Update: This post has been updated with inform...\n",
       "2817    Audi will follow the example of Volkswagen her...\n",
       "2818    Honda and the National Highway Traffic Safety ...\n",
       "2819    The Basics: Hyundai is recalling 2015-2016 Hyu...\n",
       "2820    Fiat Chrysler just announced a pair of recalls...\n",
       "2821    The Basics: Honda is recalling about 350,000 2...\n",
       "2822    Lexus is once again taking aim at plug-in vehi...\n",
       "2823    The Basics: Toyota is recalling around 340,000...\n",
       "2824    BERLIN/FRANKFURT — German Transport Minister A...\n",
       "2825    Ford Motor Co. is already recalling the 2017 L...\n",
       "2826    The Basics: Volkswagen Group is recalling 281,...\n",
       "2827    If you own a 2011 or 2012 model-year Nissan Ve...\n",
       "2828    The Basics: Porsche is recalling roughly 243 m...\n",
       "2829    Toyota is recalling 7,600 Prius vehicles for a...\n",
       "2830    The Basics: Nissan has recalled approximately ...\n",
       "2831    The Basics: General Motors is recalling 3.64 m...\n",
       "2832    A Florida family is out a Jeep Cherokee and a ...\n",
       "2833    The Basics: Ford is expanding an existing reca...\n",
       "2834    Nissan gave a free Leaf EV to the family of si...\n",
       "Name: a, Length: 2835, dtype: object"
      ]
     },
     "execution_count": 38,
     "metadata": {},
     "output_type": "execute_result"
    }
   ],
   "source": [
    "df1['a']"
   ]
  },
  {
   "cell_type": "code",
   "execution_count": 39,
   "metadata": {},
   "outputs": [],
   "source": [
    "#nltk.download()"
   ]
  },
  {
   "cell_type": "code",
   "execution_count": null,
   "metadata": {},
   "outputs": [],
   "source": []
  },
  {
   "cell_type": "code",
   "execution_count": 40,
   "metadata": {},
   "outputs": [],
   "source": [
    "\n",
    "import nltk\n",
    "from nltk.corpus import stopwords\n",
    "mystopwords=stopwords.words(\"English\") + ['one', 'become', 'get', 'make', 'take', 'recall','said', 'say', 'could', 'nhtsa', 'n\\'t', 'may', 'vehicle', 'car']\n",
    "WNlemma = nltk.WordNetLemmatizer()\n",
    "\n",
    "def pre_process(text):\n",
    "    tokens = nltk.word_tokenize(text)\n",
    "    tokens=[ WNlemma.lemmatize(t.lower()) for t in tokens]\n",
    "    tokens=[ t for t in tokens if t not in mystopwords]\n",
    "    tokens = [ t for t in tokens if len(t) >= 3 ]\n",
    "    return(tokens)"
   ]
  },
  {
   "cell_type": "code",
   "execution_count": 41,
   "metadata": {},
   "outputs": [],
   "source": [
    "toks_train = df1['a'].apply(pre_process)"
   ]
  },
  {
   "cell_type": "code",
   "execution_count": 42,
   "metadata": {},
   "outputs": [],
   "source": [
    "#!pip install gensim"
   ]
  },
  {
   "cell_type": "code",
   "execution_count": 43,
   "metadata": {},
   "outputs": [],
   "source": [
    "import logging\n",
    "import gensim \n",
    "from gensim import corpora\n",
    "\n",
    "logging.basicConfig(format='%(asctime)s : %(levelname)s : %(message)s', level=logging.INFO)"
   ]
  },
  {
   "cell_type": "code",
   "execution_count": 44,
   "metadata": {},
   "outputs": [
    {
     "name": "stderr",
     "output_type": "stream",
     "text": [
      "2018-10-10 17:35:38,656 : INFO : adding document #0 to Dictionary(0 unique tokens: [])\n",
      "2018-10-10 17:35:39,178 : INFO : built Dictionary(28216 unique tokens: ['1-888-234-2138', '1-888-327-4236', '16v888000', '2016', '2017']...) from 2835 documents (total 544361 corpus positions)\n"
     ]
    },
    {
     "name": "stdout",
     "output_type": "stream",
     "text": [
      "Dictionary(28216 unique tokens: ['1-888-234-2138', '1-888-327-4236', '16v888000', '2016', '2017']...)\n"
     ]
    }
   ],
   "source": [
    "# Prepare a vocabulary dictionary.\n",
    "dictionary = corpora.Dictionary(toks_train)\n",
    "print(dictionary)"
   ]
  },
  {
   "cell_type": "code",
   "execution_count": 45,
   "metadata": {},
   "outputs": [
    {
     "data": {
      "text/plain": [
       "gensim.corpora.dictionary.Dictionary"
      ]
     },
     "execution_count": 45,
     "metadata": {},
     "output_type": "execute_result"
    }
   ],
   "source": [
    "type(dictionary)"
   ]
  },
  {
   "cell_type": "code",
   "execution_count": 46,
   "metadata": {},
   "outputs": [],
   "source": [
    "dtm_train = [dictionary.doc2bow(d) for d in toks_train ]"
   ]
  },
  {
   "cell_type": "code",
   "execution_count": 47,
   "metadata": {},
   "outputs": [
    {
     "name": "stderr",
     "output_type": "stream",
     "text": [
      "2018-10-10 17:35:39,945 : INFO : using autotuned alpha, starting with [0.2, 0.2, 0.2, 0.2, 0.2]\n",
      "2018-10-10 17:35:39,947 : INFO : using symmetric eta at 0.2\n",
      "2018-10-10 17:35:39,953 : INFO : using serial LDA version on this node\n",
      "2018-10-10 17:35:39,978 : INFO : running online (single-pass) LDA training, 5 topics, 1 passes over the supplied corpus of 2835 documents, updating model once every 2000 documents, evaluating perplexity every 2835 documents, iterating 50x with a convergence threshold of 0.001000\n",
      "2018-10-10 17:35:39,979 : WARNING : too few updates, training might not converge; consider increasing the number of passes or iterations to improve accuracy\n",
      "2018-10-10 17:35:39,980 : INFO : PROGRESS: pass 0, at document #2000/2835\n",
      "2018-10-10 17:35:42,529 : INFO : optimized alpha [0.3057041, 0.31045505, 0.34456867, 0.28837162, 0.34303892]\n",
      "2018-10-10 17:35:42,532 : INFO : merging changes from 2000 documents into a model of 2835 documents\n",
      "2018-10-10 17:35:42,566 : INFO : topic #0 (0.306): 0.009*\"safety\" + 0.008*\"owner\" + 0.007*\"toyota\" + 0.007*\"year\" + 0.007*\"dealer\" + 0.006*\"affected\" + 0.006*\"model\" + 0.006*\"number\" + 0.005*\"customer\" + 0.004*\"traffic\"\n",
      "2018-10-10 17:35:42,567 : INFO : topic #1 (0.310): 0.010*\"safety\" + 0.010*\"owner\" + 0.008*\"toyota\" + 0.008*\"dealer\" + 0.006*\"model\" + 0.005*\"problem\" + 0.005*\"ford\" + 0.005*\"cars.com\" + 0.004*\"issue\" + 0.004*\"administration\"\n",
      "2018-10-10 17:35:42,568 : INFO : topic #2 (0.345): 0.014*\"owner\" + 0.010*\"model\" + 0.009*\"safety\" + 0.007*\"dealer\" + 0.006*\"affected\" + 0.006*\"service\" + 0.006*\"automaker\" + 0.006*\"national\" + 0.005*\"problem\" + 0.005*\"number\"\n",
      "2018-10-10 17:35:42,570 : INFO : topic #3 (0.288): 0.009*\"safety\" + 0.008*\"owner\" + 0.008*\"toyota\" + 0.006*\"problem\" + 0.006*\"model\" + 0.006*\"dealer\" + 0.005*\"chrysler\" + 0.005*\"ford\" + 0.004*\"year\" + 0.004*\"company\"\n",
      "2018-10-10 17:35:42,571 : INFO : topic #4 (0.343): 0.011*\"model\" + 0.010*\"safety\" + 0.009*\"toyota\" + 0.008*\"owner\" + 0.007*\"year\" + 0.007*\"problem\" + 0.006*\"affected\" + 0.005*\"dealer\" + 0.005*\"highway\" + 0.005*\"national\"\n",
      "2018-10-10 17:35:42,575 : INFO : topic diff=3.017246, rho=1.000000\n",
      "2018-10-10 17:35:44,182 : INFO : -8.274 per-word bound, 309.6 perplexity estimate based on a held-out corpus of 835 documents with 183232 words\n",
      "2018-10-10 17:35:44,185 : INFO : PROGRESS: pass 0, at document #2835/2835\n",
      "2018-10-10 17:35:45,043 : INFO : optimized alpha [0.22198969, 0.17353944, 0.36951664, 0.21764335, 0.32317322]\n",
      "2018-10-10 17:35:45,044 : INFO : merging changes from 835 documents into a model of 2835 documents\n",
      "2018-10-10 17:35:45,063 : INFO : topic #0 (0.222): 0.009*\"safety\" + 0.007*\"owner\" + 0.007*\"year\" + 0.007*\"affected\" + 0.006*\"customer\" + 0.006*\"company\" + 0.006*\"number\" + 0.005*\"dealer\" + 0.005*\"model\" + 0.005*\"motor\"\n",
      "2018-10-10 17:35:45,065 : INFO : topic #1 (0.174): 0.009*\"safety\" + 0.008*\"owner\" + 0.007*\"dealer\" + 0.006*\"seat\" + 0.005*\"model\" + 0.005*\"issue\" + 0.005*\"ford\" + 0.005*\"volkswagen\" + 0.004*\"automaker\" + 0.004*\"bmw\"\n",
      "2018-10-10 17:35:45,068 : INFO : topic #2 (0.370): 0.016*\"owner\" + 0.011*\"dealer\" + 0.010*\"affected\" + 0.010*\"safety\" + 0.009*\"ford\" + 0.008*\"model\" + 0.008*\"service\" + 0.006*\"inflator\" + 0.006*\"problem\" + 0.006*\"2015\"\n",
      "2018-10-10 17:35:45,070 : INFO : topic #3 (0.218): 0.007*\"safety\" + 0.007*\"chrysler\" + 0.007*\"company\" + 0.006*\"fca\" + 0.006*\"2015\" + 0.005*\"owner\" + 0.005*\"takata\" + 0.005*\"customer\" + 0.005*\"problem\" + 0.005*\"ford\"\n",
      "2018-10-10 17:35:45,072 : INFO : topic #4 (0.323): 0.012*\"model\" + 0.010*\"safety\" + 0.009*\"owner\" + 0.009*\"affected\" + 0.008*\"year\" + 0.007*\"number\" + 0.006*\"problem\" + 0.006*\"2014\" + 0.006*\"toyota\" + 0.005*\"dealer\"\n",
      "2018-10-10 17:35:45,073 : INFO : topic diff=1.576544, rho=0.707107\n"
     ]
    },
    {
     "name": "stdout",
     "output_type": "stream",
     "text": [
      "Wall time: 5.14 s\n"
     ]
    }
   ],
   "source": [
    "# Build an LDA model for 3 topics out of the DTM\n",
    "%time lda = gensim.models.ldamodel.LdaModel(dtm_train, num_topics = 5,  alpha='auto',id2word = dictionary)\n",
    "#chunksize (int, optional) – Number of documents to be used in each training chunk.\n",
    "#passes (int, optional) – Number of passes through the corpus during training.\n",
    "#chunksize=30,\n",
    "#passes = 20"
   ]
  },
  {
   "cell_type": "code",
   "execution_count": 48,
   "metadata": {},
   "outputs": [
    {
     "data": {
      "text/plain": [
       "[(0,\n",
       "  '0.009*\"safety\" + 0.007*\"owner\" + 0.007*\"year\" + 0.007*\"affected\" + 0.006*\"customer\" + 0.006*\"company\" + 0.006*\"number\" + 0.005*\"dealer\" + 0.005*\"model\" + 0.005*\"motor\"'),\n",
       " (1,\n",
       "  '0.009*\"safety\" + 0.008*\"owner\" + 0.007*\"dealer\" + 0.006*\"seat\" + 0.005*\"model\" + 0.005*\"issue\" + 0.005*\"ford\" + 0.005*\"volkswagen\" + 0.004*\"automaker\" + 0.004*\"bmw\"'),\n",
       " (2,\n",
       "  '0.016*\"owner\" + 0.011*\"dealer\" + 0.010*\"affected\" + 0.010*\"safety\" + 0.009*\"ford\" + 0.008*\"model\" + 0.008*\"service\" + 0.006*\"inflator\" + 0.006*\"problem\" + 0.006*\"2015\"'),\n",
       " (3,\n",
       "  '0.007*\"safety\" + 0.007*\"chrysler\" + 0.007*\"company\" + 0.006*\"fca\" + 0.006*\"2015\" + 0.005*\"owner\" + 0.005*\"takata\" + 0.005*\"customer\" + 0.005*\"problem\" + 0.005*\"ford\"'),\n",
       " (4,\n",
       "  '0.012*\"model\" + 0.010*\"safety\" + 0.009*\"owner\" + 0.009*\"affected\" + 0.008*\"year\" + 0.007*\"number\" + 0.006*\"problem\" + 0.006*\"2014\" + 0.006*\"toyota\" + 0.005*\"dealer\"')]"
      ]
     },
     "execution_count": 48,
     "metadata": {},
     "output_type": "execute_result"
    }
   ],
   "source": [
    "# To see the topics, with the most probable words in each topic. What topics to you see? \n",
    "lda.show_topics()"
   ]
  },
  {
   "cell_type": "code",
   "execution_count": 49,
   "metadata": {},
   "outputs": [
    {
     "data": {
      "text/plain": [
       "[(0,\n",
       "  '0.009*\"safety\" + 0.007*\"owner\" + 0.007*\"year\" + 0.007*\"affected\" + 0.006*\"customer\" + 0.006*\"company\" + 0.006*\"number\" + 0.005*\"dealer\" + 0.005*\"model\" + 0.005*\"motor\"'),\n",
       " (1,\n",
       "  '0.009*\"safety\" + 0.008*\"owner\" + 0.007*\"dealer\" + 0.006*\"seat\" + 0.005*\"model\" + 0.005*\"issue\" + 0.005*\"ford\" + 0.005*\"volkswagen\" + 0.004*\"automaker\" + 0.004*\"bmw\"'),\n",
       " (2,\n",
       "  '0.016*\"owner\" + 0.011*\"dealer\" + 0.010*\"affected\" + 0.010*\"safety\" + 0.009*\"ford\" + 0.008*\"model\" + 0.008*\"service\" + 0.006*\"inflator\" + 0.006*\"problem\" + 0.006*\"2015\"'),\n",
       " (3,\n",
       "  '0.007*\"safety\" + 0.007*\"chrysler\" + 0.007*\"company\" + 0.006*\"fca\" + 0.006*\"2015\" + 0.005*\"owner\" + 0.005*\"takata\" + 0.005*\"customer\" + 0.005*\"problem\" + 0.005*\"ford\"'),\n",
       " (4,\n",
       "  '0.012*\"model\" + 0.010*\"safety\" + 0.009*\"owner\" + 0.009*\"affected\" + 0.008*\"year\" + 0.007*\"number\" + 0.006*\"problem\" + 0.006*\"2014\" + 0.006*\"toyota\" + 0.005*\"dealer\"')]"
      ]
     },
     "execution_count": 49,
     "metadata": {},
     "output_type": "execute_result"
    }
   ],
   "source": [
    "lda.show_topics(num_words=10)"
   ]
  },
  {
   "cell_type": "code",
   "execution_count": null,
   "metadata": {},
   "outputs": [],
   "source": []
  },
  {
   "cell_type": "code",
   "execution_count": null,
   "metadata": {},
   "outputs": [],
   "source": []
  },
  {
   "cell_type": "code",
   "execution_count": null,
   "metadata": {},
   "outputs": [],
   "source": []
  }
 ],
 "metadata": {
  "kernelspec": {
   "display_name": "Python 3",
   "language": "python",
   "name": "python3"
  },
  "language_info": {
   "codemirror_mode": {
    "name": "ipython",
    "version": 3
   },
   "file_extension": ".py",
   "mimetype": "text/x-python",
   "name": "python",
   "nbconvert_exporter": "python",
   "pygments_lexer": "ipython3",
   "version": "3.6.5"
  }
 },
 "nbformat": 4,
 "nbformat_minor": 2
}
